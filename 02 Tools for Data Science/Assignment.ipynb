{
  "cells": [
    {
      "cell_type": "markdown",
      "metadata": {
        "id": "mpfZoRSFDoTK"
      },
      "source": [
        "<center>\n",
        "    <img src=\"https://cf-courses-data.s3.us.cloud-object-storage.appdomain.cloud/IBMDeveloperSkillsNetwork-DS0105EN-SkillsNetwork/labs/Module2/images/SN_web_lightmode.png\" width=\"300\" alt=\"cognitiveclass.ai logo\">\n",
        "</center>\n"
      ]
    },
    {
      "cell_type": "markdown",
      "metadata": {
        "id": "j3a-yW-iDoTN"
      },
      "source": [
        "#### Add your code below following the instructions given in the course\n"
      ]
    },
    {
      "cell_type": "markdown",
      "source": [
        "<h1>My Jupyter Notebook on IBM Watson Studio</h1>"
      ],
      "metadata": {
        "id": "NHrIZRz9D379"
      }
    },
    {
      "cell_type": "markdown",
      "source": [
        "**Musashi Kobayashi**\n",
        "\n",
        "Data Scientist"
      ],
      "metadata": {
        "id": "zWpti-LqEQ4t"
      }
    },
    {
      "cell_type": "markdown",
      "source": [
        "*I am interested in data science because I was study Econometrics in university*"
      ],
      "metadata": {
        "id": "L8URX4TWEgKI"
      }
    },
    {
      "cell_type": "markdown",
      "source": [
        "<h3>The below cell print 'Hello World'</h3>"
      ],
      "metadata": {
        "id": "sjT33V1UE0C8"
      }
    },
    {
      "cell_type": "code",
      "execution_count": 1,
      "metadata": {
        "colab": {
          "base_uri": "https://localhost:8080/"
        },
        "id": "RCspu1itDoTN",
        "outputId": "09f00b13-926b-4f7a-af13-4e661ef9d004"
      },
      "outputs": [
        {
          "output_type": "stream",
          "name": "stdout",
          "text": [
            "Hello World\n"
          ]
        }
      ],
      "source": [
        "print(\"Hello World\")"
      ]
    },
    {
      "cell_type": "markdown",
      "source": [
        "**Hello**"
      ],
      "metadata": {
        "id": "Yz1_DMmxFMAD"
      }
    },
    {
      "cell_type": "markdown",
      "source": [
        "1. This\n",
        "2. is\n",
        "3. my\n",
        "4. notebook"
      ],
      "metadata": {
        "id": "Wpjr1V_MGqCz"
      }
    },
    {
      "cell_type": "markdown",
      "source": [
        "[IBM web site](https://www.ibm.com/jp-ja)"
      ],
      "metadata": {
        "id": "umq4R318GyAS"
      }
    },
    {
      "cell_type": "code",
      "source": [],
      "metadata": {
        "id": "W7R8swqEFItv"
      },
      "execution_count": null,
      "outputs": []
    }
  ],
  "metadata": {
    "kernelspec": {
      "display_name": "Python",
      "language": "python",
      "name": "conda-env-python-py"
    },
    "language_info": {
      "name": ""
    },
    "colab": {
      "provenance": []
    }
  },
  "nbformat": 4,
  "nbformat_minor": 0
}